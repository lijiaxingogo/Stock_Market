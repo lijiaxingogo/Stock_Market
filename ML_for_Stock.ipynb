{
 "cells": [
  {
   "cell_type": "markdown",
   "metadata": {},
   "source": [
    "#                    Can We Trust ML IN Stock Market?"
   ]
  },
  {
   "cell_type": "markdown",
   "metadata": {},
   "source": [
    "# Introduction\n",
    "The stock market is one of the most well-known infrastructures through which anyone can potentially make a fortune by predicting the future stock prices. There’s just one problem. How to\n",
    "predict the future of the stock market accurately? Here, we are going to use machine learning to\n",
    "possibly predict the stock market. In this case, we would focus on the predict of a famous company\n",
    "APPLE INC."
   ]
  },
  {
   "cell_type": "markdown",
   "metadata": {},
   "source": [
    "# Background\n",
    "Shares of technology giant Apple Inc. (AAPL), which had become the first U.S.-based public\n",
    "company with a market cap of more than $1 trillion. Apple exerts a major influence on the\n",
    "performance of leading capitalization-weighted market indexes, index funds, and index-linked ETFs.\n",
    "Moreover, the S&P Information Technology Sector Index has never outperformed the entire S&P\n",
    "500 Index (SPX) when Apple has dropped by more than 30%, according to Bank of America Merrill\n",
    "Lynch."
   ]
  },
  {
   "cell_type": "code",
   "execution_count": 1,
   "metadata": {},
   "outputs": [],
   "source": [
    "import pandas as pd\n",
    "import numpy as np\n",
    "import matplotlib.pyplot as plt\n",
    "%matplotlib inline"
   ]
  },
  {
   "cell_type": "code",
   "execution_count": 2,
   "metadata": {
    "scrolled": true
   },
   "outputs": [],
   "source": [
    "import stocker\n",
    "from stocker import Stocker"
   ]
  },
  {
   "cell_type": "code",
   "execution_count": 3,
   "metadata": {
    "scrolled": true
   },
   "outputs": [
    {
     "name": "stderr",
     "output_type": "stream",
     "text": [
      "INFO:numexpr.utils:NumExpr defaulting to 4 threads.\n"
     ]
    },
    {
     "name": "stdout",
     "output_type": "stream",
     "text": [
      "AAPL Stocker Initialized. Data covers 1980-12-12 00:00:00 to 2018-03-27 00:00:00.\n"
     ]
    }
   ],
   "source": [
    "apple = Stocker('AAPL')"
   ]
  },
  {
   "cell_type": "code",
   "execution_count": 4,
   "metadata": {
    "scrolled": true
   },
   "outputs": [
    {
     "data": {
      "text/html": [
       "<div>\n",
       "<style scoped>\n",
       "    .dataframe tbody tr th:only-of-type {\n",
       "        vertical-align: middle;\n",
       "    }\n",
       "\n",
       "    .dataframe tbody tr th {\n",
       "        vertical-align: top;\n",
       "    }\n",
       "\n",
       "    .dataframe thead th {\n",
       "        text-align: right;\n",
       "    }\n",
       "</style>\n",
       "<table border=\"1\" class=\"dataframe\">\n",
       "  <thead>\n",
       "    <tr style=\"text-align: right;\">\n",
       "      <th></th>\n",
       "      <th>Date</th>\n",
       "      <th>Open</th>\n",
       "      <th>High</th>\n",
       "      <th>Low</th>\n",
       "      <th>Close</th>\n",
       "      <th>Volume</th>\n",
       "      <th>Ex-Dividend</th>\n",
       "      <th>Split Ratio</th>\n",
       "      <th>Adj. Open</th>\n",
       "      <th>Adj. High</th>\n",
       "      <th>Adj. Low</th>\n",
       "      <th>Adj. Close</th>\n",
       "      <th>Adj. Volume</th>\n",
       "      <th>ds</th>\n",
       "      <th>y</th>\n",
       "      <th>Daily Change</th>\n",
       "    </tr>\n",
       "  </thead>\n",
       "  <tbody>\n",
       "    <tr>\n",
       "      <td>0</td>\n",
       "      <td>1980-12-12</td>\n",
       "      <td>28.75</td>\n",
       "      <td>28.87</td>\n",
       "      <td>28.75</td>\n",
       "      <td>28.75</td>\n",
       "      <td>2093900.0</td>\n",
       "      <td>0.0</td>\n",
       "      <td>1.0</td>\n",
       "      <td>0.422706</td>\n",
       "      <td>0.424470</td>\n",
       "      <td>0.422706</td>\n",
       "      <td>0.422706</td>\n",
       "      <td>117258400.0</td>\n",
       "      <td>1980-12-12</td>\n",
       "      <td>0.422706</td>\n",
       "      <td>0.000000</td>\n",
       "    </tr>\n",
       "    <tr>\n",
       "      <td>1</td>\n",
       "      <td>1980-12-15</td>\n",
       "      <td>27.38</td>\n",
       "      <td>27.38</td>\n",
       "      <td>27.25</td>\n",
       "      <td>27.25</td>\n",
       "      <td>785200.0</td>\n",
       "      <td>0.0</td>\n",
       "      <td>1.0</td>\n",
       "      <td>0.402563</td>\n",
       "      <td>0.402563</td>\n",
       "      <td>0.400652</td>\n",
       "      <td>0.400652</td>\n",
       "      <td>43971200.0</td>\n",
       "      <td>1980-12-15</td>\n",
       "      <td>0.400652</td>\n",
       "      <td>-0.001911</td>\n",
       "    </tr>\n",
       "    <tr>\n",
       "      <td>2</td>\n",
       "      <td>1980-12-16</td>\n",
       "      <td>25.37</td>\n",
       "      <td>25.37</td>\n",
       "      <td>25.25</td>\n",
       "      <td>25.25</td>\n",
       "      <td>472000.0</td>\n",
       "      <td>0.0</td>\n",
       "      <td>1.0</td>\n",
       "      <td>0.373010</td>\n",
       "      <td>0.373010</td>\n",
       "      <td>0.371246</td>\n",
       "      <td>0.371246</td>\n",
       "      <td>26432000.0</td>\n",
       "      <td>1980-12-16</td>\n",
       "      <td>0.371246</td>\n",
       "      <td>-0.001764</td>\n",
       "    </tr>\n",
       "    <tr>\n",
       "      <td>3</td>\n",
       "      <td>1980-12-17</td>\n",
       "      <td>25.87</td>\n",
       "      <td>26.00</td>\n",
       "      <td>25.87</td>\n",
       "      <td>25.87</td>\n",
       "      <td>385900.0</td>\n",
       "      <td>0.0</td>\n",
       "      <td>1.0</td>\n",
       "      <td>0.380362</td>\n",
       "      <td>0.382273</td>\n",
       "      <td>0.380362</td>\n",
       "      <td>0.380362</td>\n",
       "      <td>21610400.0</td>\n",
       "      <td>1980-12-17</td>\n",
       "      <td>0.380362</td>\n",
       "      <td>0.000000</td>\n",
       "    </tr>\n",
       "    <tr>\n",
       "      <td>4</td>\n",
       "      <td>1980-12-18</td>\n",
       "      <td>26.63</td>\n",
       "      <td>26.75</td>\n",
       "      <td>26.63</td>\n",
       "      <td>26.63</td>\n",
       "      <td>327900.0</td>\n",
       "      <td>0.0</td>\n",
       "      <td>1.0</td>\n",
       "      <td>0.391536</td>\n",
       "      <td>0.393300</td>\n",
       "      <td>0.391536</td>\n",
       "      <td>0.391536</td>\n",
       "      <td>18362400.0</td>\n",
       "      <td>1980-12-18</td>\n",
       "      <td>0.391536</td>\n",
       "      <td>0.000000</td>\n",
       "    </tr>\n",
       "  </tbody>\n",
       "</table>\n",
       "</div>"
      ],
      "text/plain": [
       "        Date   Open   High    Low  Close     Volume  Ex-Dividend  Split Ratio  \\\n",
       "0 1980-12-12  28.75  28.87  28.75  28.75  2093900.0          0.0          1.0   \n",
       "1 1980-12-15  27.38  27.38  27.25  27.25   785200.0          0.0          1.0   \n",
       "2 1980-12-16  25.37  25.37  25.25  25.25   472000.0          0.0          1.0   \n",
       "3 1980-12-17  25.87  26.00  25.87  25.87   385900.0          0.0          1.0   \n",
       "4 1980-12-18  26.63  26.75  26.63  26.63   327900.0          0.0          1.0   \n",
       "\n",
       "   Adj. Open  Adj. High  Adj. Low  Adj. Close  Adj. Volume         ds  \\\n",
       "0   0.422706   0.424470  0.422706    0.422706  117258400.0 1980-12-12   \n",
       "1   0.402563   0.402563  0.400652    0.400652   43971200.0 1980-12-15   \n",
       "2   0.373010   0.373010  0.371246    0.371246   26432000.0 1980-12-16   \n",
       "3   0.380362   0.382273  0.380362    0.380362   21610400.0 1980-12-17   \n",
       "4   0.391536   0.393300  0.391536    0.391536   18362400.0 1980-12-18   \n",
       "\n",
       "          y  Daily Change  \n",
       "0  0.422706      0.000000  \n",
       "1  0.400652     -0.001911  \n",
       "2  0.371246     -0.001764  \n",
       "3  0.380362      0.000000  \n",
       "4  0.391536      0.000000  "
      ]
     },
     "execution_count": 4,
     "metadata": {},
     "output_type": "execute_result"
    }
   ],
   "source": [
    "apple_dataset = apple.stock\n",
    "apple_dataset.head()"
   ]
  },
  {
   "cell_type": "markdown",
   "metadata": {},
   "source": [
    "## Relationship Between Parameters"
   ]
  },
  {
   "cell_type": "code",
   "execution_count": 5,
   "metadata": {
    "scrolled": true
   },
   "outputs": [
    {
     "data": {
      "image/png": "[encoded data removed]",
      "text/plain": [
       "<Figure size 792x648 with 6 Axes>"
      ]
     },
     "metadata": {},
     "output_type": "display_data"
    }
   ],
   "source": [
    "import matplotlib.pyplot as plt\n",
    "import seaborn as sns\n",
    "# Use seaborn style defaults and set the default figure size\n",
    "sns.set(rc={'figure.figsize':(11, 4)})\n",
    "cols_plot = ['Adj. Close', 'High','Low','Open','Close','Volume']\n",
    "axes = apple_dataset[cols_plot].plot(marker='.', alpha=0.5, linestyle='None', figsize=(11, 9), subplots=True)\n",
    "for ax in axes:\n",
    "    ax.set_ylabel('Daily stock price')"
   ]
  },
  {
   "cell_type": "markdown",
   "metadata": {},
   "source": [
    "We can already see some interesting patterns emerge: 1. Fours series “Adj Close, High, Low and\n",
    "Open” perform in a similar pattern. Therefore, instead of using all four series, Adj Close series is\n",
    "representive to be used in the data. Hence, we can shrink our data to Date and Adj Close for the\n",
    "following analysing 2. The series does not exhibit clear seasonality(no pattern repeats again and\n",
    "again at regular time intervals) Since the data has no seasonality, we assume that an MA model\n",
    "might not fit the dataset well. The data has a clear trend, so probably a linear regression model\n",
    "might work\n",
    "These information are helpul in determining which model to use."
   ]
  },
  {
   "cell_type": "markdown",
   "metadata": {},
   "source": [
    "## Insights at Apple"
   ]
  },
  {
   "cell_type": "code",
   "execution_count": 6,
   "metadata": {
    "scrolled": true
   },
   "outputs": [
    {
     "name": "stdout",
     "output_type": "stream",
     "text": [
      "Maximum Adj. Close = 181.72 on 2018-03-12 00:00:00.\n",
      "Minimum Adj. Close = 0.16 on 1982-07-08 00:00:00.\n",
      "Current Adj. Close = 168.34 on 2018-03-27 00:00:00.\n",
      "\n"
     ]
    },
    {
     "data": {
      "image/png": "[encoded data removed]",
      "text/plain": [
       "<Figure size 800x500 with 1 Axes>"
      ]
     },
     "metadata": {},
     "output_type": "display_data"
    }
   ],
   "source": [
    "apple.plot_stock()"
   ]
  },
  {
   "cell_type": "markdown",
   "metadata": {},
   "source": [
    "Incredicle increasing, right?"
   ]
  },
  {
   "cell_type": "markdown",
   "metadata": {},
   "source": [
    "Let's make an scenario,if my mom bought me 100 shares apple stock at the day I came to the world, that's 1,662$, do you know how much I will earn when I sold it at my 21st birthday , that's 2018 jan 31st?"
   ]
  },
  {
   "cell_type": "code",
   "execution_count": null,
   "metadata": {
    "scrolled": true
   },
   "outputs": [],
   "source": [
    "apple_dataset[apple_dataset['Date'] == '1997-1-31']"
   ]
  },
  {
   "cell_type": "code",
   "execution_count": null,
   "metadata": {
    "scrolled": true
   },
   "outputs": [],
   "source": [
    "apple.buy_and_hold(start_date='1997-01-31', end_date='2018-01-31', nshares=100)"
   ]
  },
  {
   "cell_type": "markdown",
   "metadata": {},
   "source": [
    "</br>\n",
    "</br>\n",
    "</br>"
   ]
  },
  {
   "cell_type": "markdown",
   "metadata": {},
   "source": [
    "Rules: People take advantage of market swings. It should be more shares to be traded when there's large prices fluctuate"
   ]
  },
  {
   "cell_type": "markdown",
   "metadata": {},
   "source": [
    "Let's figure it out!"
   ]
  },
  {
   "cell_type": "code",
   "execution_count": null,
   "metadata": {},
   "outputs": [],
   "source": [
    "apple.plot_stock(stats = ['Daily Change', 'Adj. Volume'],  plot_type='pct')"
   ]
  },
  {
   "cell_type": "markdown",
   "metadata": {},
   "source": [
    "The y-axis is in the percentage, because the daily volume is originally in shares, with a range in the hundreds of millions, while daily price change typically is a few dollars! By converting to percentage change we can look at both datasets on a similar scale."
   ]
  },
  {
   "cell_type": "markdown",
   "metadata": {},
   "source": [
    "#### So, From this chart we can see there is no relationship between the daily trade volume with daily price change!!!"
   ]
  },
  {
   "cell_type": "markdown",
   "metadata": {},
   "source": [
    "## Additive Models"
   ]
  },
  {
   "cell_type": "code",
   "execution_count": null,
   "metadata": {},
   "outputs": [],
   "source": [
    "model, model_data = apple.create_prophet_model(days=90)"
   ]
  },
  {
   "cell_type": "code",
   "execution_count": null,
   "metadata": {},
   "outputs": [],
   "source": [
    "apple.evaluate_prediction()"
   ]
  },
  {
   "cell_type": "markdown",
   "metadata": {},
   "source": [
    " Result shows that: When the model predicted an increase, the price increased \n",
    " ### 48.59% of the time.\n",
    "When the model predicted a  decrease, the price decreased  \n",
    "### 43.66% of the time.\n"
   ]
  },
  {
   "cell_type": "markdown",
   "metadata": {},
   "source": [
    "## How Bad It is!! Just as bad as a coin flip!"
   ]
  },
  {
   "cell_type": "markdown",
   "metadata": {},
   "source": [
    "## Moving Average"
   ]
  },
  {
   "cell_type": "code",
   "execution_count": null,
   "metadata": {},
   "outputs": [],
   "source": [
    "import pandas as pd\n",
    "import numpy as np\n",
    "\n",
    "import matplotlib.pyplot as plt\n",
    "%matplotlib inline\n",
    "\n",
    "import matplotlib.style\n",
    "import matplotlib as mpl\n",
    "mpl.style.use('ggplot')\n",
    "\n",
    "from matplotlib.pylab import rcParams\n",
    "rcParams['figure.figsize'] = 20, 10\n",
    "\n",
    "from sklearn.preprocessing import MinMaxScaler\n",
    "scaler = MinMaxScaler(feature_range=(0, 1))\n",
    "\n",
    "# Creating copy of goog_data dataframe for moving averages\n",
    "\n",
    "df = apple_dataset\n",
    "\n",
    "df['Date'] = pd.to_datetime(df.Date, format='%Y-%m-%d')\n",
    "df.index = df['Date']\n",
    "\n",
    "plt.figure(figsize=(16,8))\n",
    "plt.plot(df['Date'],df['Adj. Close'], label= 'Close Price History')"
   ]
  },
  {
   "cell_type": "code",
   "execution_count": null,
   "metadata": {},
   "outputs": [],
   "source": [
    "data = df.sort_index(ascending=True, axis=0)\n",
    "new_data = pd.DataFrame(index=range(0, len(df)), columns=['Date', 'Adj. Close'])\n",
    "\n",
    "for i in range(0, len(data)):\n",
    "  new_data['Date'][i] = data['Date'][i]\n",
    "  new_data['Adj. Close'][i] = data['Adj. Close'][i]\n",
    "  \n",
    "# Train-test split\n",
    "\n",
    "train = new_data[:8800]\n",
    "test = new_data[0:]\n",
    "\n",
    "num = test.shape[0]\n",
    "\n",
    "train['Date'].min(), train['Date'].max(), test['Date'].min(), test['Date'].max()\n",
    "\n",
    "# Making predictions\n",
    "\n",
    "pred = []\n",
    "for i in range(0, num):\n",
    "  a = train['Adj. Close'][len(train)-924+i:].sum() + sum(pred)\n",
    "  b = a/num\n",
    "  pred.append(b)"
   ]
  },
  {
   "cell_type": "code",
   "execution_count": null,
   "metadata": {
    "scrolled": true
   },
   "outputs": [],
   "source": [
    "test['Predctions']=0\n",
    "test['Predictions']=pred\n",
    "plt.plot(train['Adj. Close'])\n",
    "plt.plot(test[['Adj. Close','Predictions']])"
   ]
  },
  {
   "cell_type": "code",
   "execution_count": null,
   "metadata": {},
   "outputs": [],
   "source": [
    "rms_MA = np.sqrt(np.mean(np.power(np.array(test['Adj. Close'])-np.array(pred),2)))"
   ]
  },
  {
   "cell_type": "code",
   "execution_count": null,
   "metadata": {},
   "outputs": [],
   "source": [
    "rms_MA"
   ]
  },
  {
   "cell_type": "markdown",
   "metadata": {},
   "source": [
    "#### In terms of figuring out the general trend of the stock data, the moving average method did okay, but it failed to see the full extent of the increase and the up-and-down in price."
   ]
  },
  {
   "cell_type": "markdown",
   "metadata": {},
   "source": [
    "## Simple Linear Regression"
   ]
  },
  {
   "cell_type": "code",
   "execution_count": null,
   "metadata": {},
   "outputs": [],
   "source": [
    "#!pip install fastai==1.0.59"
   ]
  },
  {
   "cell_type": "code",
   "execution_count": null,
   "metadata": {},
   "outputs": [],
   "source": [
    "apple_2 = apple_dataset\n",
    "train = apple_2[:8600]\n",
    "test = apple_2[8600:]\n",
    "\n",
    "\n",
    "x_train = train[['High','Low','Open','Close','Volume']]\n",
    "    \n",
    "\n",
    "x_test = test[['High','Low','Open','Close','Volume']]\n",
    "   \n",
    "y_train = train['Adj. Close']\n",
    "\n",
    "y_test = test['Adj. Close']\n",
    "from sklearn.linear_model import LinearRegression\n",
    "model = LinearRegression()\n",
    "model.fit(x_train,y_train)\n",
    "preds = model.predict(x_test)\n",
    "plt.figure(figsize=(16,8))\n",
    "test['Predictions'] = preds\n",
    "plt.plot(train['Adj. Close'])#x is the data point at the dataset\n",
    "plt.plot(test[['Adj. Close','Predictions']])"
   ]
  },
  {
   "cell_type": "code",
   "execution_count": null,
   "metadata": {},
   "outputs": [],
   "source": [
    "rms_LR = np.sqrt(np.mean(np.power(np.array(y_test)-np.array(preds),2)))"
   ]
  },
  {
   "cell_type": "code",
   "execution_count": null,
   "metadata": {},
   "outputs": [],
   "source": [
    "rms_LR"
   ]
  },
  {
   "cell_type": "markdown",
   "metadata": {},
   "source": [
    "## Multilayer Perceptron"
   ]
  },
  {
   "cell_type": "code",
   "execution_count": null,
   "metadata": {},
   "outputs": [],
   "source": [
    "import tensorflow as tf\n",
    "from tensorflow.keras import layers\n",
    "\n",
    "model = tf.keras.models.Sequential()\n",
    "\n",
    "model.add(tf.keras.layers.Dense(100, activation=tf.nn.relu))\n",
    "\n",
    "model.add(tf.keras.layers.Dense(100, activation=tf.nn.relu))\n",
    "\n",
    "model.add(tf.keras.layers.Dense(1, activation=tf.nn.relu))\n",
    "\n",
    "model.compile(optimizer='adam', loss='mean_squared_error')\n",
    "\n",
    "X_train = np.array(x_train)\n",
    "Y_train = np.array(y_train)\n",
    "\n",
    "model.fit(X_train, Y_train, epochs=500)"
   ]
  },
  {
   "cell_type": "code",
   "execution_count": null,
   "metadata": {
    "scrolled": true
   },
   "outputs": [],
   "source": [
    "predss = model.predict(x_test)"
   ]
  },
  {
   "cell_type": "code",
   "execution_count": null,
   "metadata": {},
   "outputs": [],
   "source": [
    "rms_MP = np.sqrt(np.mean(np.power(np.array(y_test)-np.array(predss),2)))"
   ]
  },
  {
   "cell_type": "code",
   "execution_count": null,
   "metadata": {},
   "outputs": [],
   "source": [
    "rms_MP"
   ]
  },
  {
   "cell_type": "code",
   "execution_count": null,
   "metadata": {
    "scrolled": true
   },
   "outputs": [],
   "source": [
    "test['Predictions']=0\n",
    "test['Predictions']=predss\n",
    "plt.plot(train['Adj. Close'])\n",
    "plt.plot(test[['Adj. Close','Predictions']])"
   ]
  },
  {
   "cell_type": "code",
   "execution_count": null,
   "metadata": {},
   "outputs": [],
   "source": [
    "all_data = pd.read_csv('sp500_joined_closes.csv')"
   ]
  },
  {
   "cell_type": "code",
   "execution_count": null,
   "metadata": {},
   "outputs": [],
   "source": [
    "all_data.head()"
   ]
  },
  {
   "cell_type": "code",
   "execution_count": null,
   "metadata": {},
   "outputs": [],
   "source": [
    "all_data.loc[1,:].isna().sum()\n",
    "for i in range(0,len(all_data)):\n",
    "    \n",
    "    #print(all_data.loc[i,:].isna().sum())\n",
    "    if all_data.loc[i,:].isna().sum() > 250:\n",
    "        print(i)"
   ]
  },
  {
   "cell_type": "code",
   "execution_count": null,
   "metadata": {},
   "outputs": [],
   "source": [
    "all_data.drop(range(7918,7939),inplace = True)\n",
    "all_data.dropna(axis=1,inplace = True)\n",
    "year_list = []\n",
    "for each in all_data.iterrows():\n",
    "    year = each[1][0]\n",
    "    year = year[0:4]\n",
    "    year_list.append(year)\n",
    "all_data['year'] = year_list\n",
    "groups = all_data.groupby('year')\n",
    "avg_price = groups.aggregate(np.mean)"
   ]
  },
  {
   "cell_type": "code",
   "execution_count": null,
   "metadata": {},
   "outputs": [],
   "source": [
    "from sklearn.model_selection import train_test_split\n",
    "from sklearn import linear_model"
   ]
  },
  {
   "cell_type": "code",
   "execution_count": null,
   "metadata": {},
   "outputs": [],
   "source": [
    "avg_price"
   ]
  },
  {
   "cell_type": "code",
   "execution_count": null,
   "metadata": {},
   "outputs": [],
   "source": [
    "year =  avg_price.index\n",
    "avg_price['year'] = year\n",
    "for i in range(0,(len(avg_price.columns)-1)):\n",
    "    X = avg_price['year']\n",
    "    y = avg_price.iloc[:,i]\n",
    "    X_train, X_test, y_train, y_test = train_test_split(X, y, test_size=0.3, random_state=0)\n",
    "    X_train = X_train.to_numpy()\n",
    "    y_train = y_train.to_numpy()\n",
    "    X_test = X_test.to_numpy()\n",
    "    y_test = y_test.to_numpy()\n",
    "    X_train = X_train.reshape(-1,1)\n",
    "    y_train = y_train.reshape(-1,1)\n",
    "    X_test = X_test.reshape(-1,1)\n",
    "    y_test = y_test.reshape(-1,1)\n",
    "    lm = linear_model.LinearRegression()\n",
    "    lm.fit(X_train,y_train)\n",
    "    LR_predictions = lm.predict(X_test)\n",
    "    \n",
    "    print(i)\n",
    "    print(avg_price.columns[i])\n",
    "    rms_SLR = np.sqrt(np.mean(np.power(np.array(y_test)-np.array(LR_predictions),2)))\n",
    "    print('RMS = '+ str(rms_SLR))\n",
    "    print('')\n",
    "\n",
    "    print(predictions)\n",
    "    plt.figure(figsize=(16,8))\n",
    "    plt.plot(predictions,label='Pred')\n",
    "    plt.plot(y_test,label='real')\n",
    "    plt.legend()\n",
    "    plt.title('Prediction VS Real')"
   ]
  },
  {
   "cell_type": "markdown",
   "metadata": {},
   "source": [
    "# Conclusion: \n",
    "In this project, we did some 'exploration' apple stock market using machine learning in. We figure that \n",
    "1.  The relationship bewteen the prcies change with volumn changes in a day; no relationship \n",
    "2.  The relationship bewteen the close price with other parameters; strongly related\n",
    "3.  The performance of ML model(linear regression, addtive model, moving average, Multilayer Perceptron) on the stock market prediction; The ups and downs of the many forces at play on share prices have made it impossible to predict, at least for now.There are two types of chaos: level one and level two. Level one chaotic systems are those which don’t react to predictions – the weather for example – and level two are those which do react to predictions, like politics, public protests and, of course, the stock market.If investors want to use ML to do the prediction, we reconmend hold it in the long-term rather than trading frequently.\n",
    "\n",
    "\n",
    "\n",
    "# Inprovement:\n",
    "1.  Try out different machine learning algorithms:There are MANY machine learning algorithms out there that are very good. We only used a small subset of them.\n",
    "2.  We took apple as the example. It can't represent the whole market. When I try to measure the accuracy of the integrated dataset, I only took very small amount of data(1988-2019, 32 columns) "
   ]
  },
  {
   "cell_type": "code",
   "execution_count": null,
   "metadata": {},
   "outputs": [],
   "source": []
  }
 ],
 "metadata": {
  "kernelspec": {
   "display_name": "Python 3",
   "language": "python",
   "name": "python3"
  },
  "language_info": {
   "codemirror_mode": {
    "name": "ipython",
    "version": 3
   },
   "file_extension": ".py",
   "mimetype": "text/x-python",
   "name": "python",
   "nbconvert_exporter": "python",
   "pygments_lexer": "ipython3",
   "version": "3.7.3"
  }
 },
 "nbformat": 4,
 "nbformat_minor": 2
}
